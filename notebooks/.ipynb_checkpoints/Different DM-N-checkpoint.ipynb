{
 "cells": [
  {
   "cell_type": "code",
   "execution_count": 1,
   "id": "55f064fb",
   "metadata": {},
   "outputs": [],
   "source": [
    "import sys, os\n",
    "sys.path.append('../src')\n",
    "import numpy as np\n",
    "from scipy import interpolate\n",
    "from numba import jit, float64\n",
    "import time, multiprocessing, pickle\n",
    "from U1Funcs import DMvRatesGen\n",
    "from StatisticFuncs import *\n",
    "from WIMPFuncs import C_SI\n",
    "from Params import *\n",
    "from U1PlotFuncs import *"
   ]
  },
  {
   "cell_type": "code",
   "execution_count": 2,
   "id": "2965a102",
   "metadata": {},
   "outputs": [],
   "source": [
    "#========================== Experimental setup =========================================#\n",
    "ne = 10 # number of energy bins\n",
    "E_th = 1*1e-6 # Threshold GeV\n",
    "E_max = 5*1e-6 # Max recoil energy GeV\n",
    "Nuc = Xe131\n",
    "#========================== Initialize fog =========================================#\n",
    "fogGen=Fog()\n",
    "#========================== Model and other parameters =================================#\n",
    "selList=np.array([0,1,3])\n",
    "b0Level=0.\n",
    "mDM = 5.5"
   ]
  },
  {
   "cell_type": "code",
   "execution_count": 3,
   "id": "f6820e75",
   "metadata": {},
   "outputs": [
    {
     "name": "stdout",
     "output_type": "stream",
     "text": [
      "[['0' 'hep']\n",
      " ['1' '8B']\n",
      " ['2' 'DSNB']\n",
      " ['3' 'Atm']\n",
      " ['4' 'Reactor']]\n",
      "[['0' 'hep']\n",
      " ['1' '8B']\n",
      " ['2' 'DSNB']\n",
      " ['3' 'Atm']\n",
      " ['4' 'Reactor']]\n",
      "[['0' 'hep']\n",
      " ['1' '8B']\n",
      " ['2' 'DSNB']\n",
      " ['3' 'Atm']\n",
      " ['4' 'Reactor']]\n"
     ]
    }
   ],
   "source": [
    "modelParaList = [[np.log10(2e-5),np.log10(30e-3),1,1,1],\\\n",
    "    [np.log10(4e-5),np.log10(20e-3),1/3,1/3,-1], [np.log10(8e-4),np.log10(16e-3),[0,1,-1]]]\n",
    "paraGenList = [StatisticClass(SpectrumNR(6., E_th, E_max, ne, Nuc,modelParaList[0],selList),'SMvsDMNP'),\\\n",
    "               StatisticClass(SpectrumNR(6., E_th, E_max, ne, Nuc,modelParaList[1],selList),'DMvsNP'),\\\n",
    "               StatisticClass(SpectrumNR(6., E_th, E_max, ne, Nuc,modelParaList[2],selList,mode='FD'),'DMvsNP')]"
   ]
  },
  {
   "cell_type": "code",
   "execution_count": 4,
   "id": "d658361d",
   "metadata": {},
   "outputs": [],
   "source": [
    "def myMul2(mDM, paraGenClass, FogGenClass, modelPara):\n",
    "    exposureEndLog, dExpoLog, CL, b0Level = 8., 0.1, 0.9, 0.\n",
    "    paraGenClass.setModel(modelPara)\n",
    "    paraGenClass.setDMMass(mDM)\n",
    "    NPDiscoveryExposure = biSearch(1., 8, findNPDiscoveryExposure, [paraGenClass, CL, b0Level], 0., 0)[0]\n",
    "    #print([modelPara,NPDiscoveryExposure])\n",
    "    paraList = exposureEndLog, dExpoLog, CL, b0Level, NPDiscoveryExposure\n",
    "    return myMul(mDM, paraGenClass, FogGenClass, paraList)\n",
    "\n",
    "def resGen2(mDM, paraGenClass, FogGenClass, modelParaList):\n",
    "    time_start = time.perf_counter()\n",
    "    pool = multiprocessing.Pool(4)\n",
    "    multiple_results = [pool.apply_async(\\\n",
    "            myMul2, [mDM, paraGenClass, FogGenClass, modelPara]) for modelPara in modelParaList]\n",
    "    pool.close()\n",
    "    pool.join()\n",
    "    res1= [res.get() for res in multiple_results]\n",
    "    time_end = time.perf_counter()\n",
    "    print(\"Time costed: {0} s.\".format(time_end-time_start))\n",
    "    \n",
    "    res1 = [item for item in res1]\n",
    "    modelMassList = 10**np.array([d[1] for d in modelParaList])\n",
    "    return [modelMassList, res1]"
   ]
  },
  {
   "cell_type": "code",
   "execution_count": 5,
   "id": "22dad7ae",
   "metadata": {},
   "outputs": [
    {
     "data": {
      "text/plain": [
       "[-44.69721697097137,\n",
       " [array([-42.8125    , -42.8625    , -42.96916667, -43.04179078,\n",
       "         -43.10460082, -43.17904236, -43.24342422, -43.31972866,\n",
       "         -43.38572168, -43.46393564, -43.53158014, -43.5900835 ,\n",
       "         -43.6594208 , -43.7193882 , -43.79046068, -43.85192877,\n",
       "         -43.92477983, -43.97438056, -44.06774663, -44.12016267,\n",
       "         -44.18228538, -44.23601314, -44.29969047, -44.35476276,\n",
       "         -44.40239285, -44.45884333, -44.5257476 , -44.57129944,\n",
       "         -44.62528681, -44.68927184, -44.73283612, -44.78446785,\n",
       "         -44.84566102, -44.88732445, -44.93670333, -44.99522645,\n",
       "         -45.03507198, -45.08229631, -45.12313897, -45.15846236,\n",
       "         -45.20032711, -45.23653447, -45.26784893, -45.29493172,\n",
       "         -45.31835467, -45.33861235, -45.35613251, -45.37128508,\n",
       "         -45.38439001, -45.395724  , -45.40344075, -45.41011471,\n",
       "         -45.41588678, -45.42087884, -45.42427768, -45.42830595,\n",
       "         -45.43178985, -45.43480296, -45.43740889, -45.4404974 ,\n",
       "         -45.44415786, -45.44732366, -45.45328281, -45.45734011,\n",
       "         -45.46497737, -45.47158257, -45.47941095, -45.48868904,\n",
       "         -45.49968529, -45.51271788, -45.52398932, -45.54520613,\n",
       "         -45.5635558 , -45.58530357, -45.60411244, -45.63951739,\n",
       "         -45.67013788, -45.69662047, -45.72800724, -45.76520638,\n",
       "         -45.80929424, -45.84742429, -45.89261545, -45.9316997 ,\n",
       "         -45.97802178, -46.01808411, -46.0655654 , -46.12183952,\n",
       "         -46.17050902, -46.21260157, -46.26248903, -46.32161491,\n",
       "         -46.37275081, -46.41697645, -46.46939203, -46.51472441,\n",
       "         -46.56845169, -46.61491852, -46.66999032, -46.71761999,\n",
       "         -46.77406997, -46.82289157, -46.86511565, -46.91515901,\n",
       "         -46.97446966, -47.02576536, -47.07012921]),\n",
       "  array([-2.98617302, -2.91818297, -2.77302688, -2.67655356, -2.58670737,\n",
       "         -2.48570279, -2.38915064, -2.28217559, -2.18239999, -2.06548421,\n",
       "         -1.96598106, -1.87279087, -1.76907709, -1.67063502, -1.5586135 ,\n",
       "         -1.45891188, -1.3358603 , -1.25297736, -1.09422988, -1.00602353,\n",
       "         -0.89985616, -0.80331979, -0.68950096, -0.59389007, -0.50136602,\n",
       "         -0.39933315, -0.27143447, -0.18555185, -0.08415874,  0.04293029,\n",
       "          0.12881526,  0.23042757,  0.35824913,  0.44539259,  0.54916382,\n",
       "          0.68276925,  0.77318565,  0.88764157,  0.9905728 ,  1.08902743,\n",
       "          1.21352164,  1.33182081,  1.44602996,  1.55779058,  1.66868773,\n",
       "          1.78041589,  1.89485993,  2.01411228,  2.1404244 ,  2.27606591,\n",
       "          2.388149  ,  2.50695561,  2.63092099,  2.75817783,  2.85596011,\n",
       "          2.9843969 ,  3.10080896,  3.20103539,  3.28406522,  3.37594796,\n",
       "          3.4741683 ,  3.54864471,  3.67079465,  3.74182272,  3.85663239,\n",
       "          3.94028503,  4.02599198,  4.1138015 ,  4.20373926,  4.29557104,\n",
       "          4.3662304 ,  4.4820752 ,  4.56926311,  4.66092427,  4.73545688,\n",
       "          4.85913804,  4.95455394,  5.03397686,  5.12115129,  5.21792575,\n",
       "          5.3278125 ,  5.41865039,  5.52227698,  5.61141522,  5.70897994,\n",
       "          5.80044719,  5.89972081,  6.01824218,  6.11617074,  6.20612537,\n",
       "          6.30604932,  6.42908961,  6.53119285,  6.61953007,  6.72521426,\n",
       "          6.81677333,  6.92414678,  7.0177835 ,  7.1285214 ,  7.22279439,\n",
       "          7.33828442,  7.43259975,  7.52055482,  7.61883587,  7.73939659,\n",
       "          7.83986362,  7.92954529]),\n",
       "  array([-44.18228538, -44.23601314, -44.29969047, -44.35476276,\n",
       "         -44.40239285, -44.45884333, -44.5257476 , -44.57129944,\n",
       "         -44.62528681, -44.68927184, -44.73283612, -44.78446785,\n",
       "         -44.84566102, -44.88732445, -44.93670333, -44.99522645,\n",
       "         -45.03507198, -45.08229631]),\n",
       "  array([-0.99089994, -0.86658622, -0.70574517, -0.55240548, -0.40582198,\n",
       "         -0.21036177,  0.06565124,  0.29695125,  0.65356851,  1.38429956,\n",
       "          2.60735306,  2.70982265,  1.378161  ,  0.97007043,  0.68616247,\n",
       "          0.46558815,  0.3544165 ,  0.24868614]),\n",
       "  array([8.10879314e-01, 8.64437445e-01, 9.63287203e-01, 1.10023282e+00,\n",
       "         1.24607460e+00, 1.54515260e+00, 2.17312998e+00, 3.03740780e+00,\n",
       "         5.46672534e+00, 2.19467024e+01, 3.00980114e+02, 3.01574816e+02,\n",
       "         1.04691608e+01, 3.34717057e+00, 1.37087749e+00, 6.06483369e-01,\n",
       "         3.81268437e-01, 2.29638430e-01]),\n",
       "  array([-44.34512888, -44.96486213])]]"
      ]
     },
     "execution_count": 5,
     "metadata": {},
     "output_type": "execute_result"
    }
   ],
   "source": [
    "myMul2(mDM, paraGenList[0], fogGen, modelParaList[0])"
   ]
  },
  {
   "cell_type": "code",
   "execution_count": 6,
   "id": "568c63e1",
   "metadata": {},
   "outputs": [
    {
     "data": {
      "text/plain": [
       "[2.2854831587645412e-05, 5.027088693857333e-05, 0.0009166954315114784]"
      ]
     },
     "execution_count": 6,
     "metadata": {},
     "output_type": "execute_result"
    }
   ],
   "source": [
    "myPath = os.path.join(os.path.abspath(os.path.pardir),'data','detection')\n",
    "U1UniversalLimitDat=np.transpose(np.log10(np.loadtxt(os.path.join(myPath,'U(1)UniversalLimit.txt'))))\n",
    "U1UniversalLimitFunc = lambda mLog: np.interp(mLog, U1UniversalLimitDat[0], U1UniversalLimitDat[1])\n",
    "U1BLLimitDat=np.transpose(np.log10(np.loadtxt(os.path.join(myPath,'U(1)BL.txt'))))\n",
    "U1BLLimitFunc = lambda mLog: np.interp(mLog, U1BLLimitDat[0], U1BLLimitDat[1])\n",
    "U1LmuLtauLimitDat=np.transpose(np.log10(np.loadtxt(os.path.join(myPath,'U(1)LmuLtau.txt'))))\n",
    "U1LmuLtauLimitFunc = lambda mLog: np.interp(mLog, U1LmuLtauLimitDat[0], U1LmuLtauLimitDat[1])\n",
    "[10**U1UniversalLimitFunc(np.log10(20e-3)),10**U1BLLimitFunc(np.log10(20e-3)),\\\n",
    "    10**U1LmuLtauLimitFunc(np.log10(20e-3))]"
   ]
  },
  {
   "cell_type": "code",
   "execution_count": 7,
   "id": "6ce895ce",
   "metadata": {},
   "outputs": [],
   "source": [
    "colorList = ['r', 'b', 'g']\n",
    "labelList = [r'U(1)$_{\\rm Universal}$', r'U(1)$_{B-L}$',r'U(1)$_{L_\\mu-L_\\tau}$']"
   ]
  },
  {
   "cell_type": "code",
   "execution_count": null,
   "id": "b8477c62",
   "metadata": {},
   "outputs": [],
   "source": [
    "mLogList = np.linspace(np.log10(16e-3),np.log10(200e-3),20)\n",
    "modelParaListUniversal = [[U1UniversalLimitFunc(mLog), mLog, 1,1,1] for mLog in mLogList]\n",
    "resListUniversal = resGen2(mDM, paraGenList[0], fogGen, modelParaListUniversal)"
   ]
  },
  {
   "cell_type": "code",
   "execution_count": null,
   "id": "fec83b6f",
   "metadata": {},
   "outputs": [],
   "source": [
    "mLogList = np.linspace(np.log10(16e-3),np.log10(200e-3),20)\n",
    "modelParaListBL = [[U1BLLimitFunc(mLog), mLog, 1/3,1/3,-1] for mLog in mLogList]\n",
    "resListBL = resGen2(mDM, paraGenList[1], fogGen, modelParaListBL)"
   ]
  },
  {
   "cell_type": "code",
   "execution_count": null,
   "id": "9c469eab",
   "metadata": {},
   "outputs": [],
   "source": [
    "mLogList = np.linspace(np.log10(16e-3),np.log10(50e-3),10)\n",
    "modelParaListLmuLtau = [[U1LmuLtauLimitFunc(mLog), mLog, [0,1,-1]] for mLog in mLogList]\n",
    "resListLmuLtau = resGen2(mDM, paraGenList[2], fogGen, modelParaListLmuLtau)"
   ]
  },
  {
   "cell_type": "code",
   "execution_count": null,
   "id": "4e57d202",
   "metadata": {},
   "outputs": [],
   "source": [
    "[maxCheck(res[0], res[1]) for res in [resListUniversal, resListBL, resListLmuLtau]]"
   ]
  },
  {
   "cell_type": "code",
   "execution_count": null,
   "id": "b4d23631",
   "metadata": {},
   "outputs": [],
   "source": [
    "PandaX4TLimitDat =np.transpose(loadtxt(\"../data/WIMPLimits/SI/PandaX4TDMLimits.txt\"))\n",
    "PandaX4TLimitFunc = lambda mDM: np.interp(mDM, PandaX4TLimitDat[0], PandaX4TLimitDat[1])\n",
    "PandaX4TLimitFunc(mDM)"
   ]
  },
  {
   "cell_type": "code",
   "execution_count": null,
   "id": "28e94913",
   "metadata": {},
   "outputs": [],
   "source": [
    "def ax1Func2(ax1, dat, color, label=False, rightLabel=False):\n",
    "    n = 4\n",
    "    colors = np.zeros([n,4])\n",
    "    colors[0] = mpl.colors.to_rgba(color)\n",
    "    colors[:] = mpl.colors.to_rgba(color)\n",
    "    colors[:,3] = [0., 0.2, 0.5, 0.8]\n",
    "    cmap = mpl.colors.ListedColormap(colors, name='test')\n",
    "    m,sig,n = vsContourDatGen(dat[0], dat[1])\n",
    "    cnt = ax1.contourf(m*1e3,sig,n,np.array([1., 10., 100., 300., 10000.]),\\\n",
    "                       colors=colors,antialiased=True)\n",
    "    if label!=False:\n",
    "        ax1.fill_between([-2,-1],[1,1],[2,2],color=color,alpha=0.5,label=label)\n",
    "    # for c in cnt.collections:\n",
    "    #     c.set_edgecolor(color)\n",
    "    cnt.collections[1].set_edgecolor(color)\n",
    "    if rightLabel:\n",
    "        cmap2 = mpl.colors.ListedColormap(colors[1:-1], name='test')\n",
    "        cmap2.set_under(color=color, alpha=0.)\n",
    "        cmap2.set_over(color=color, alpha=0.8)\n",
    "        im = plt.pcolormesh(-m,sig,n,vmax=3.,vmin=1,cmap=cmap2,rasterized=True,shading='auto')\n",
    "        #fig.subplots_adjust(top=0.8)\n",
    "        cbar_ax = fig.add_axes([0.912, 0.12, 0.03, 0.74])\n",
    "        cbar = fig.colorbar(im, cax=cbar_ax,orientation='vertical',extend='max',extendfrac=0.08, \\\n",
    "                     ticks=[1,2,3])\n",
    "        cbar.set_ticklabels([10,100,300])\n",
    "        cbar_ax.yaxis.set_ticks_position('right')"
   ]
  },
  {
   "cell_type": "code",
   "execution_count": null,
   "id": "a78bf9c9",
   "metadata": {},
   "outputs": [],
   "source": [
    "resList = [resListUniversal, resListBL, resListLmuLtau]\n",
    "\n",
    "fig, ax1 = plt.subplots(figsize=(15,15))\n",
    "# Plot style\n",
    "lw, tfs = 2.5, 25\n",
    "lfs = 35\n",
    "plt.rcParams['axes.linewidth'] = lw\n",
    "plt.rc('text', usetex=True)\n",
    "plt.rc('font', family='serif',size=tfs)\n",
    "mpl.rcParams['text.latex.preamble'] = r'\\usepackage{mathpazo}'\n",
    "#========================== exposure ============================================#\n",
    "expoLogList = np.linspace(-1,4,6)\n",
    "sigma0ContourList = 10**np.transpose([np.interp(expoLogList, d[1][1], d[1][0]) for d in resList[0][1]])\n",
    "expoLogLabelList = [r\"1 ${\\rm ton}\\cdot {\\rm years}$\"]+[r\"$10^\"+str(i)+r\"$ ${\\rm ton}\\cdot {\\rm years}$\" \\\n",
    "                                                          for i in range(1,3)]\n",
    "lines=[]\n",
    "for i in range(len(expoLogLabelList)):\n",
    "    l1 = ax1.loglog(resList[0][0]*1e3, sigma0ContourList[i], c='gray', linestyle='-.', label=expoLogLabelList[i])\n",
    "    lines.extend(l1)\n",
    "\n",
    "#labelLines(lines, xvals=170, fontsize=15, outline_width=13,drop_label=True)\n",
    "labelLines([lines[0]], xvals=160, fontsize=15, outline_width=13,drop_label=True)\n",
    "labelLines([lines[1]], xvals=160, fontsize=15, outline_width=0,drop_label=True,yoffsets=1e-46)\n",
    "labelLines([lines[2]], xvals=160, fontsize=15, outline_width=13,drop_label=True)\n",
    "#========================== experiment ==========================================#\n",
    "pek = line_background(7,'k')\n",
    "l1=ax1.axhline(PandaX4TLimitFunc(5.5),c='black',lw=3,linestyle='--',label=r\"PadnaX-4T $^8$B Limits\")\n",
    "labelLines([l1], xvals=40, fontsize=30, outline_width=20,drop_label=True)\n",
    "#========================== contour plot ========================================#\n",
    "ax1Func2(ax1, resList[0], colorList[0],label=labelList[0])\n",
    "ax1Func2(ax1, resList[1], colorList[1],label=labelList[1], rightLabel=True)\n",
    "ax1Func2(ax1, resList[2], colorList[2],label=labelList[2])\n",
    "ZprimeMassList = resList[0][0]*1e3\n",
    "#========================== style ===============================================#\n",
    "ax1.legend(fontsize=35,frameon=True,loc=(0.6,0.75),framealpha=1,fancybox=False,edgecolor=[1,1,1,0])\n",
    "ax1.set_xlabel(r\"$Z^\\prime$ mass [MeV]\",fontsize=lfs)\n",
    "ax1.set_ylabel(r\"DM-nucleon cross section [cm$^2$]\",fontsize=lfs)\n",
    "ax1.tick_params(which='major',direction='in',width=2,length=13,right=True,top=True,pad=10,labelsize=25)\n",
    "ax1.tick_params(which='minor',direction='in',width=1,length=10,right=True,top=True)\n",
    "ax1.set_yticks(10.0**np.arange(-51,-30,1))\n",
    "ax1.set_xlim(left=ZprimeMassList[0], right=ZprimeMassList[-1])\n",
    "ax1.set_ylim(bottom=5e-46, top=2e-44)\n",
    "ax1.set_xscale('log')\n",
    "ax1.set_yscale('log')\n",
    "\n",
    "ax1.xaxis.set_major_locator(mticker.FixedLocator([2e1,3e1,6e1,1e2,2e2]))\n",
    "ax1.xaxis.set_major_formatter(mticker.ScalarFormatter(useMathText=True))"
   ]
  },
  {
   "cell_type": "code",
   "execution_count": null,
   "id": "2e202bc1",
   "metadata": {},
   "outputs": [],
   "source": [
    "myPathFig = os.path.join(os.path.abspath(os.path.pardir),'plots')\n",
    "fig.savefig(os.path.join(myPathFig,\"DMNSI_U1\"+'.pdf'),bbox_inches='tight')\n",
    "fig.savefig(os.path.join(myPathFig,'png','DMNSI_U1.png'),bbox_inches='tight')"
   ]
  },
  {
   "cell_type": "code",
   "execution_count": null,
   "id": "18d22d81",
   "metadata": {},
   "outputs": [],
   "source": []
  }
 ],
 "metadata": {
  "kernelspec": {
   "display_name": "Python 3 (ipykernel)",
   "language": "python",
   "name": "python3"
  },
  "language_info": {
   "codemirror_mode": {
    "name": "ipython",
    "version": 3
   },
   "file_extension": ".py",
   "mimetype": "text/x-python",
   "name": "python",
   "nbconvert_exporter": "python",
   "pygments_lexer": "ipython3",
   "version": "3.9.7"
  }
 },
 "nbformat": 4,
 "nbformat_minor": 5
}
